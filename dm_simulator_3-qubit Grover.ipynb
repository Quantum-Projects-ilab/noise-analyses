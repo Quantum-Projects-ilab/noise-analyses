{
 "cells": [
  {
   "cell_type": "code",
   "execution_count": 1,
   "metadata": {},
   "outputs": [],
   "source": [
    "import numpy as np;\n",
    "%matplotlib inline\n",
    "import matplotlib.pyplot as plt\n",
    "\n",
    "SMALL_SIZE = 13\n",
    "MEDIUM_SIZE = SMALL_SIZE\n",
    "BIGGER_SIZE = SMALL_SIZE\n",
    "\n",
    "plt.rc('font', size=SMALL_SIZE)          # controls default text sizes\n",
    "plt.rc('axes', titlesize=SMALL_SIZE)     # fontsize of the axes title\n",
    "plt.rc('axes', labelsize=MEDIUM_SIZE)    # fontsize of the x and y labels\n",
    "plt.rc('xtick', labelsize=SMALL_SIZE)    # fontsize of the tick labels\n",
    "plt.rc('ytick', labelsize=SMALL_SIZE)    # fontsize of the tick labels\n",
    "plt.rc('legend', fontsize=BIGGER_SIZE)    # legend fontsize\n",
    "plt.rc('figure', titlesize=BIGGER_SIZE)  # fontsize of the figure title"
   ]
  },
  {
   "cell_type": "code",
   "execution_count": 2,
   "metadata": {},
   "outputs": [],
   "source": [
    "from qiskit import *"
   ]
  },
  {
   "cell_type": "code",
   "execution_count": 3,
   "metadata": {},
   "outputs": [],
   "source": [
    "def phase_oracle(circuit, q):\n",
    "    circuit.h(q[2])\n",
    "    circuit.ccx(q[0], q[1], q[2])\n",
    "    circuit.h(q[2])"
   ]
  },
  {
   "cell_type": "code",
   "execution_count": 4,
   "metadata": {},
   "outputs": [],
   "source": [
    "def diffuser(circuit, q):\n",
    "    \"\"\"Apply inversion about the average step of Grover's algorithm.\"\"\"\n",
    "    qubits = circuit.qubits\n",
    "    nqubits = len(qubits)\n",
    "    \n",
    "    for nq in range(nqubits):\n",
    "        circuit.h(q[nq])\n",
    "        circuit.x(q[nq])\n",
    "    \n",
    "    # Do controlled-Z\n",
    "    circuit.h(q[2])\n",
    "    circuit.ccx(q[0], q[1], q[2])\n",
    "    circuit.h(q[2])\n",
    "    \n",
    "    for nq in range(nqubits):\n",
    "        circuit.x(q[nq])\n",
    "        circuit.h(q[nq])"
   ]
  },
  {
   "cell_type": "code",
   "execution_count": 5,
   "metadata": {},
   "outputs": [
    {
     "data": {
      "text/html": [
       "<pre style=\"word-wrap: normal;white-space: pre;line-height: 15px;\">         ┌───┐ ░                 ░ ┌───┐┌───┐          ┌───┐┌───┐     \n",
       "q0_0: |0>┤ H ├─░────────■────────░─┤ H ├┤ X ├───────■──┤ X ├┤ H ├─────\n",
       "         ├───┤ ░        │        ░ ├───┤├───┤       │  ├───┤├───┤     \n",
       "q0_1: |0>┤ H ├─░────────■────────░─┤ H ├┤ X ├───────■──┤ X ├┤ H ├─────\n",
       "         ├───┤ ░ ┌───┐┌─┴─┐┌───┐ ░ ├───┤├───┤┌───┐┌─┴─┐├───┤├───┤┌───┐\n",
       "q0_2: |0>┤ H ├─░─┤ H ├┤ X ├┤ H ├─░─┤ H ├┤ X ├┤ H ├┤ X ├┤ H ├┤ X ├┤ H ├\n",
       "         └───┘ ░ └───┘└───┘└───┘ ░ └───┘└───┘└───┘└───┘└───┘└───┘└───┘</pre>"
      ],
      "text/plain": [
       "<qiskit.visualization.text.TextDrawing at 0x1e69850e970>"
      ]
     },
     "execution_count": 5,
     "metadata": {},
     "output_type": "execute_result"
    }
   ],
   "source": [
    "n = 3\n",
    "barriers = True\n",
    "\n",
    "q = QuantumRegister(n)\n",
    "grover_circuit = QuantumCircuit(q)\n",
    "\n",
    "for qubit in range(n):\n",
    "    grover_circuit.h(q[qubit])\n",
    "\n",
    "if barriers:\n",
    "    grover_circuit.barrier()\n",
    "\n",
    "phase_oracle(grover_circuit, q)\n",
    "\n",
    "if barriers:\n",
    "    grover_circuit.barrier()\n",
    "\n",
    "diffuser(grover_circuit, q)\n",
    "\n",
    "#grover_circuit.barrier()\n",
    "grover_circuit.draw()"
   ]
  },
  {
   "cell_type": "code",
   "execution_count": 6,
   "metadata": {},
   "outputs": [],
   "source": [
    "c = ClassicalRegister(n)\n",
    "grover_circuit += QuantumCircuit(c)"
   ]
  },
  {
   "cell_type": "code",
   "execution_count": 7,
   "metadata": {},
   "outputs": [],
   "source": [
    "grover_circuit.measure(q,c,basis='Ensemble',add_param='Z')\n",
    "backend = BasicAer.get_backend('dm_simulator')\n",
    "# Noise parameters\n",
    "options = {}\n",
    "options1 = {\n",
    "    \"thermal_factor\": 0.,\n",
    "    \"decoherence_factor\": .9,\n",
    "    \"depolarization_factor\": 0.99,\n",
    "    \"bell_depolarization_factor\": 0.99,\n",
    "    \"decay_factor\": 0.99,\n",
    "    \"rotation_error\": {'rx':[1., 0.], 'ry':[1., 0.], 'rz': [1., 0.]},\n",
    "    \"tsp_model_error\": [1., 0.],\n",
    "    \"plot\": False\n",
    "}\n",
    "# Execution with and without noise\n",
    "run = execute(grover_circuit,backend,**options)\n",
    "result = run.result()\n",
    "run_error = execute(grover_circuit,backend,**options1)\n",
    "##fix \n",
    "##<<<START>>>\n",
    "result_error = run_error.result()\n",
    "##<<<END>>>\n",
    "# Final state (probabilities)\n",
    "prob = result['results'][0]['data']['ensemble_probability']\n",
    "prob1 = result_error['results'][0]['data']['ensemble_probability']"
   ]
  },
  {
   "cell_type": "code",
   "execution_count": 8,
   "metadata": {},
   "outputs": [
    {
     "data": {
      "image/png": "[encoded data removed]",
      "text/plain": [
       "<Figure size 720x504 with 1 Axes>"
      ]
     },
     "metadata": {
      "needs_background": "light"
     },
     "output_type": "display_data"
    }
   ],
   "source": [
    "labels = prob1.keys()\n",
    "without_noise = prob.values()\n",
    "with_noise = prob1.values()\n",
    "\n",
    "x = np.arange(len(labels)) # the label locations\n",
    "width = 0.35  # the width of the bars\n",
    "\n",
    "fig, ax = plt.subplots(figsize=(10, 7))\n",
    "rects1 = ax.bar(x - width/2, without_noise, width, label='Without Noise')\n",
    "rects2 = ax.bar(x + width/2, with_noise, width, label='With Noise')\n",
    "\n",
    "# Add some text for labels, title and custom x-axis tick labels, etc.\n",
    "ax.set_ylabel('Probability')\n",
    "ax.set_title('Ensemble Probabilities with Noise')\n",
    "ax.set_xticks(x)\n",
    "ax.set_xticklabels(labels)\n",
    "ax.legend()\n",
    "plt.show()"
   ]
  }
 ],
 "metadata": {
  "kernelspec": {
   "display_name": "Python 3",
   "language": "python",
   "name": "python3"
  },
  "language_info": {
   "codemirror_mode": {
    "name": "ipython",
    "version": 3
   },
   "file_extension": ".py",
   "mimetype": "text/x-python",
   "name": "python",
   "nbconvert_exporter": "python",
   "pygments_lexer": "ipython3",
   "version": "3.8.3"
  }
 },
 "nbformat": 4,
 "nbformat_minor": 4
}
