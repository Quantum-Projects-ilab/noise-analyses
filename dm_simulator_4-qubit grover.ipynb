{
 "cells": [
  {
   "cell_type": "code",
   "execution_count": 1,
   "metadata": {},
   "outputs": [],
   "source": [
    "import numpy as np;\n",
    "%matplotlib inline\n",
    "import matplotlib.pyplot as plt\n",
    "\n",
    "SMALL_SIZE = 20\n",
    "MEDIUM_SIZE = 20\n",
    "BIGGER_SIZE = 20\n",
    "\n",
    "plt.rc('font', size=SMALL_SIZE)          # controls default text sizes\n",
    "plt.rc('axes', titlesize=SMALL_SIZE)     # fontsize of the axes title\n",
    "plt.rc('axes', labelsize=MEDIUM_SIZE)    # fontsize of the x and y labels\n",
    "plt.rc('xtick', labelsize=SMALL_SIZE)    # fontsize of the tick labels\n",
    "plt.rc('ytick', labelsize=SMALL_SIZE)    # fontsize of the tick labels\n",
    "plt.rc('legend', fontsize=BIGGER_SIZE)    # legend fontsize\n",
    "plt.rc('figure', titlesize=BIGGER_SIZE)  # fontsize of the figure title"
   ]
  },
  {
   "cell_type": "code",
   "execution_count": 2,
   "metadata": {},
   "outputs": [],
   "source": [
    "from qiskit import *\n",
    "\n",
    "pi = np.pi\n",
    "shots = 8192\n",
    "\n",
    "qr = QuantumRegister(4)\n",
    "qc = QuantumCircuit(qr)"
   ]
  },
  {
   "cell_type": "code",
   "execution_count": 3,
   "metadata": {},
   "outputs": [
    {
     "data": {
      "text/plain": [
       "<qiskit.circuit.instructionset.InstructionSet at 0x2217fee3220>"
      ]
     },
     "execution_count": 3,
     "metadata": {},
     "output_type": "execute_result"
    }
   ],
   "source": [
    "#######################\n",
    "######## init #########\n",
    "#######################\n",
    "qc.h(qr[0])\n",
    "qc.h(qr[1])\n",
    "qc.h(qr[2])\n",
    "qc.h(qr[3])"
   ]
  },
  {
   "cell_type": "code",
   "execution_count": 4,
   "metadata": {},
   "outputs": [
    {
     "data": {
      "text/plain": [
       "<qiskit.circuit.instructionset.InstructionSet at 0x2217fefa430>"
      ]
     },
     "execution_count": 4,
     "metadata": {},
     "output_type": "execute_result"
    }
   ],
   "source": [
    "qc.barrier()\n",
    "#######################\n",
    "### Oracle for 0100 ###\n",
    "#######################\n",
    "qc.x(qr[0])\n",
    "qc.x(qr[2])\n",
    "qc.x(qr[3])\n",
    "qc.cu1(pi/4, qr[0], qr[3])\n",
    "qc.cx(qr[0], qr[1])\n",
    "qc.cu1(-pi/4, qr[1], qr[3])\n",
    "qc.cx(qr[0], qr[1])\n",
    "qc.cu1(pi/4, qr[1], qr[3])\n",
    "qc.cx(qr[1], qr[2])\n",
    "qc.cu1(-pi/4, qr[2], qr[3])\n",
    "qc.cx(qr[0], qr[2])\n",
    "qc.cu1(pi/4, qr[2], qr[3])\n",
    "qc.cx(qr[1], qr[2])\n",
    "qc.cu1(-pi/4, qr[2], qr[3])\n",
    "qc.cx(qr[0], qr[2])\n",
    "qc.cu1(pi/4, qr[2], qr[3])\n",
    "qc.x(qr[0])\n",
    "qc.x(qr[2])\n",
    "qc.x(qr[3])\n",
    "\n",
    "qc.barrier()"
   ]
  },
  {
   "cell_type": "code",
   "execution_count": 5,
   "metadata": {},
   "outputs": [
    {
     "data": {
      "text/plain": [
       "<qiskit.circuit.instructionset.InstructionSet at 0x2217fee3550>"
      ]
     },
     "execution_count": 5,
     "metadata": {},
     "output_type": "execute_result"
    }
   ],
   "source": [
    "#######################\n",
    "#### Amplification ####\n",
    "#######################\n",
    "qc.h(qr[0])\n",
    "qc.h(qr[1])\n",
    "qc.h(qr[2])\n",
    "qc.h(qr[3])\n",
    "qc.x(qr[0])\n",
    "qc.x(qr[1])\n",
    "qc.x(qr[2])\n",
    "qc.x(qr[3])"
   ]
  },
  {
   "cell_type": "code",
   "execution_count": 6,
   "metadata": {},
   "outputs": [
    {
     "data": {
      "text/plain": [
       "<qiskit.circuit.instructionset.InstructionSet at 0x2217ff01b50>"
      ]
     },
     "execution_count": 6,
     "metadata": {},
     "output_type": "execute_result"
    }
   ],
   "source": [
    "######## cccZ #########\n",
    "qc.cu1(pi/4, qr[0], qr[3])\n",
    "qc.cx(qr[0], qr[1])\n",
    "qc.cu1(-pi/4, qr[1], qr[3])\n",
    "qc.cx(qr[0], qr[1])\n",
    "qc.cu1(pi/4, qr[1], qr[3])\n",
    "qc.cx(qr[1], qr[2])\n",
    "qc.cu1(-pi/4, qr[2], qr[3])\n",
    "qc.cx(qr[0], qr[2])\n",
    "qc.cu1(pi/4, qr[2], qr[3])\n",
    "qc.cx(qr[1], qr[2])\n",
    "qc.cu1(-pi/4, qr[2], qr[3])\n",
    "qc.cx(qr[0], qr[2])\n",
    "qc.cu1(pi/4, qr[2], qr[3])\n",
    "####### end cccZ #######"
   ]
  },
  {
   "cell_type": "code",
   "execution_count": 7,
   "metadata": {},
   "outputs": [
    {
     "data": {
      "text/plain": [
       "<qiskit.circuit.instructionset.InstructionSet at 0x2217ff0c9d0>"
      ]
     },
     "execution_count": 7,
     "metadata": {},
     "output_type": "execute_result"
    }
   ],
   "source": [
    "qc.x(qr[0])\n",
    "qc.x(qr[1])\n",
    "qc.x(qr[2])\n",
    "qc.x(qr[3])\n",
    "qc.h(qr[0])\n",
    "qc.h(qr[1])\n",
    "qc.h(qr[2])\n",
    "qc.h(qr[3])\n",
    "\n",
    "#qc.barrier()"
   ]
  },
  {
   "cell_type": "code",
   "execution_count": 8,
   "metadata": {},
   "outputs": [
    {
     "data": {
      "text/html": [
       "<pre style=\"word-wrap: normal;white-space: pre;line-height: 15px;\">         ┌───┐ ░ ┌───┐                                                     »\n",
       "q0_0: |0>┤ H ├─░─┤ X ├─■─────────■──────────────■──────────────────────────»\n",
       "         ├───┤ ░ └───┘ │       ┌─┴─┐          ┌─┴─┐                        »\n",
       "q0_1: |0>┤ H ├─░───────┼───────┤ X ├─■────────┤ X ├─■─────────■────────────»\n",
       "         ├───┤ ░ ┌───┐ │       └───┘ │        └───┘ │       ┌─┴─┐          »\n",
       "q0_2: |0>┤ H ├─░─┤ X ├─┼─────────────┼──────────────┼───────┤ X ├─■────────»\n",
       "         ├───┤ ░ ├───┤ │0.7854       │-0.7854       │0.7854 └───┘ │-0.7854 »\n",
       "q0_3: |0>┤ H ├─░─┤ X ├─■─────────────■──────────────■─────────────■────────»\n",
       "         └───┘ ░ └───┘                                                     »\n",
       "«                                             ┌───┐           ░ ┌───┐┌───┐»\n",
       "«q0_0: ──■────────────────────────────■───────┤ X ├───────────░─┤ H ├┤ X ├»\n",
       "«        │                            │       └───┘           ░ ├───┤├───┤»\n",
       "«q0_1: ──┼─────────────■──────────────┼───────────────────────░─┤ H ├┤ X ├»\n",
       "«      ┌─┴─┐         ┌─┴─┐          ┌─┴─┐               ┌───┐ ░ ├───┤├───┤»\n",
       "«q0_2: ┤ X ├─■───────┤ X ├─■────────┤ X ├─■─────────────┤ X ├─░─┤ H ├┤ X ├»\n",
       "«      └───┘ │0.7854 └───┘ │-0.7854 └───┘ │0.7850.7854  ├───┤ ░ ├───┤├───┤»\n",
       "«q0_3: ──────■─────────────■──────────────■─────────────┤ X ├─░─┤ H ├┤ X ├»\n",
       "«                                                       └───┘ ░ └───┘└───┘»\n",
       "«                                                                              »\n",
       "«q0_0: ─■─────────■──────────────■────────────────────────────■────────────────»\n",
       "«       │       ┌─┴─┐          ┌─┴─┐                          │                »\n",
       "«q0_1: ─┼───────┤ X ├─■────────┤ X ├─■─────────■──────────────┼─────────────■──»\n",
       "«       │       └───┘ │        └───┘ │       ┌─┴─┐          ┌─┴─┐         ┌─┴─┐»\n",
       "«q0_2: ─┼─────────────┼──────────────┼───────┤ X ├─■────────┤ X ├─■───────┤ X ├»\n",
       "«       │0.7854       │-0.7854       │0.7854 └───┘ │-0.7854 └───┘ │0.7854 └───┘»\n",
       "«q0_3: ─■─────────────■──────────────■─────────────■──────────────■────────────»\n",
       "«                                                                              »\n",
       "«                                      ┌───┐     ┌───┐     \n",
       "«q0_0: ───────────────────■────────────┤ X ├─────┤ H ├─────\n",
       "«            ┌───┐        │  ┌───┐     └───┘     └───┘     \n",
       "«q0_1: ──────┤ X ├────────┼──┤ H ├─────────────────────────\n",
       "«            └───┘      ┌─┴─┐└───┘               ┌───┐┌───┐\n",
       "«q0_2: ─■───────────────┤ X ├──────■─────────────┤ X ├┤ H ├\n",
       "«       │-0.785-0.7854  └───┘      │0.7850.7854  ├───┤├───┤\n",
       "«q0_3: ─■──────────────────────────■─────────────┤ X ├┤ H ├\n",
       "«                                                └───┘└───┘</pre>"
      ],
      "text/plain": [
       "<qiskit.visualization.text.TextDrawing at 0x2217ff7d880>"
      ]
     },
     "execution_count": 8,
     "metadata": {},
     "output_type": "execute_result"
    }
   ],
   "source": [
    "########################\n",
    "####### Measure ########\n",
    "########################\n",
    "# qc.barrier(qr)\n",
    "# qc.measure(qr[0], cr[0])\n",
    "# qc.measure(qr[1], cr[1])\n",
    "# qc.measure(qr[2], cr[2])\n",
    "# qc.measure(qr[3], cr[3])\n",
    "\n",
    "qc.draw()"
   ]
  },
  {
   "cell_type": "code",
   "execution_count": 9,
   "metadata": {},
   "outputs": [],
   "source": [
    "cr = ClassicalRegister(4)\n",
    "qc += QuantumCircuit(cr)"
   ]
  },
  {
   "cell_type": "code",
   "execution_count": 10,
   "metadata": {},
   "outputs": [],
   "source": [
    "qc.measure(qr,cr,basis='Ensemble',add_param='Z')\n",
    "backend = BasicAer.get_backend('dm_simulator')\n",
    "# Noise parameters\n",
    "options = {}\n",
    "options1 = {\n",
    "    \"thermal_factor\": 0.,\n",
    "    \"decoherence_factor\": .9,\n",
    "    \"depolarization_factor\": 0.99,\n",
    "    \"bell_depolarization_factor\": 0.99,\n",
    "    \"decay_factor\": 0.99,\n",
    "    \"rotation_error\": {'rx':[1., 0.], 'ry':[1., 0.], 'rz': [1., 0.]},\n",
    "    \"tsp_model_error\": [1., 0.],\n",
    "    \"plot\": False\n",
    "}\n",
    "# Execution with and without noise\n",
    "run = execute(qc,backend,**options)\n",
    "result = run.result()\n",
    "run_error = execute(qc,backend,**options1)\n",
    "##fix \n",
    "##<<<START>>>\n",
    "result_error = run_error.result()\n",
    "##<<<END>>>\n",
    "# Final state (probabilities)\n",
    "prob = result['results'][0]['data']['ensemble_probability']\n",
    "prob1 = result_error['results'][0]['data']['ensemble_probability']"
   ]
  },
  {
   "cell_type": "code",
   "execution_count": 11,
   "metadata": {},
   "outputs": [
    {
     "data": {
      "image/png": "[encoded data removed]",
      "text/plain": [
       "<Figure size 1800x864 with 1 Axes>"
      ]
     },
     "metadata": {
      "needs_background": "light"
     },
     "output_type": "display_data"
    }
   ],
   "source": [
    "labels = prob1.keys()\n",
    "without_noise = prob.values()\n",
    "with_noise = prob1.values()\n",
    "\n",
    "x = np.arange(len(labels)) # the label locations\n",
    "width = 0.35  # the width of the bars\n",
    "\n",
    "fig, ax = plt.subplots(figsize=(25, 12))\n",
    "rects1 = ax.bar(x - width/2, without_noise, width, label='Without Noise')\n",
    "rects2 = ax.bar(x + width/2, with_noise, width, label='With Noise')\n",
    "\n",
    "# Add some text for labels, title and custom x-axis tick labels, etc.\n",
    "ax.set_ylabel('Probability')\n",
    "ax.set_title('Ensemble Probabilities with Noise')\n",
    "ax.set_xticks(x)\n",
    "ax.set_xticklabels(labels)\n",
    "ax.legend()\n",
    "plt.show()"
   ]
  },
  {
   "cell_type": "code",
   "execution_count": null,
   "metadata": {},
   "outputs": [],
   "source": []
  }
 ],
 "metadata": {
  "kernelspec": {
   "display_name": "Python 3",
   "language": "python",
   "name": "python3"
  },
  "language_info": {
   "codemirror_mode": {
    "name": "ipython",
    "version": 3
   },
   "file_extension": ".py",
   "mimetype": "text/x-python",
   "name": "python",
   "nbconvert_exporter": "python",
   "pygments_lexer": "ipython3",
   "version": "3.8.3"
  }
 },
 "nbformat": 4,
 "nbformat_minor": 4
}
